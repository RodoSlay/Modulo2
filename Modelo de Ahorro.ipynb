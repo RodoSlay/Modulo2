{
 "cells": [
  {
   "cell_type": "code",
   "execution_count": 12,
   "metadata": {},
   "outputs": [],
   "source": [
    "import numpy as np\n",
    "import matplotlib.pyplot as plt\n",
    "%matplotlib inline"
   ]
  },
  {
   "cell_type": "markdown",
   "metadata": {},
   "source": [
    ">\n",
    "- Simple\n",
    "- Compuesto\n",
    "- Continuo"
   ]
  },
  {
   "cell_type": "code",
   "execution_count": 23,
   "metadata": {},
   "outputs": [],
   "source": [
    "\n",
    "def intSimpleCapitalFinal(CapitalInicial, Intereses, Periodos):\n",
    "    return CapitalInicial*(1+Intereses*Periodos)"
   ]
  },
  {
   "cell_type": "code",
   "execution_count": 24,
   "metadata": {},
   "outputs": [],
   "source": [
    "listaDeIntereses = [.05,.1,.15,.2,.5]"
   ]
  },
  {
   "cell_type": "code",
   "execution_count": 25,
   "metadata": {},
   "outputs": [
    {
     "name": "stdout",
     "output_type": "stream",
     "text": [
      "16000.0 22000.0 28000.0 34000.0 70000.0 "
     ]
    }
   ],
   "source": [
    "# capital 10000\n",
    "Periodos = 12\n",
    "for Intereses in listaDeIntereses:\n",
    "    print(intSimpleCapitalFinal(10000, Intereses, Periodos), end = \" \")"
   ]
  },
  {
   "cell_type": "code",
   "execution_count": 32,
   "metadata": {},
   "outputs": [
    {
     "data": {
      "image/png": "[encoded data removed]",
      "text/plain": [
       "<Figure size 288x144 with 1 Axes>"
      ]
     },
     "metadata": {},
     "output_type": "display_data"
    }
   ],
   "source": [
    "# capital 10000\n",
    "Periodo = [3,6,12,18]\n",
    "colores = [\"red\", \"blue\", \"orange\", \"green\"]\n",
    "plt.figure(figsize = (4,2))\n",
    "for indx, periodo in enumerate(Periodo):\n",
    "    for Intereses in listaDeIntereses:\n",
    "        capitalx = intSimpleCapitalFinal(10000, Intereses, periodo)\n",
    "        plt.scatter([periodo], [capitalx], color = colores[indx], s = 5)"
   ]
  },
  {
   "cell_type": "code",
   "execution_count": 34,
   "metadata": {},
   "outputs": [],
   "source": [
    "def intCompuesto(CapitalInicial, Intereses, Periodo):\n",
    "    return CapitalInicial*(1+Intereses)**Periodo"
   ]
  },
  {
   "cell_type": "code",
   "execution_count": 44,
   "metadata": {},
   "outputs": [
    {
     "name": "stdout",
     "output_type": "stream",
     "text": [
      "17958.5632602213 31384.283767210032 53502.50105473706 89161.00448255996 1297463.37890625 "
     ]
    }
   ],
   "source": [
    "#Capital 10000\n",
    "Periodos = 12\n",
    "for Intereses in listaDeIntereses:\n",
    "    print(intCompuesto(10000, Intereses, Periodos), end = \" \")"
   ]
  },
  {
   "cell_type": "code",
   "execution_count": 45,
   "metadata": {},
   "outputs": [
    {
     "data": {
      "image/png": "[encoded data removed]",
      "text/plain": [
       "<Figure size 288x144 with 1 Axes>"
      ]
     },
     "metadata": {},
     "output_type": "display_data"
    }
   ],
   "source": [
    "Periodo = [3,6,12,18]\n",
    "colores = [\"red\", \"blue\", \"orange\", \"green\"]\n",
    "plt.figure(figsize = (4,2))\n",
    "for indx, periodo in enumerate(Periodo):\n",
    "    for Intereses in listaDeIntereses:\n",
    "        capitalx = intCompuesto(10000, Intereses, periodo)\n",
    "        plt.scatter([periodo], [capitalx], color = colores[indx], s = 5)"
   ]
  },
  {
   "cell_type": "code",
   "execution_count": 46,
   "metadata": {},
   "outputs": [],
   "source": [
    "#Actividad 1\n",
    "# Resolver con 0.8% y 1% mensual\n",
    "# Resolver con 11000 y 12000\n",
    "# Capital iicial 10000\n",
    "\n",
    "def periodo(CapitalInicial, CapitalFinal, Interes):\n",
    "    ans = (CapitalFinal/CapitalInicial - 1)/Interes\n",
    "    if ans == int(ans):\n",
    "        return ans\n",
    "    else:\n",
    "        return int(ans)+1   "
   ]
  },
  {
   "cell_type": "code",
   "execution_count": 47,
   "metadata": {},
   "outputs": [
    {
     "data": {
      "text/plain": [
       "13"
      ]
     },
     "execution_count": 47,
     "metadata": {},
     "output_type": "execute_result"
    }
   ],
   "source": [
    "periodo(10000,11000, .008)"
   ]
  },
  {
   "cell_type": "code",
   "execution_count": 48,
   "metadata": {},
   "outputs": [
    {
     "data": {
      "text/plain": [
       "20"
      ]
     },
     "execution_count": 48,
     "metadata": {},
     "output_type": "execute_result"
    }
   ],
   "source": [
    "periodo(10000,12000, .01)"
   ]
  },
  {
   "cell_type": "code",
   "execution_count": 49,
   "metadata": {},
   "outputs": [],
   "source": [
    "#Actividad 2\n",
    "\n",
    "def periodoCompuesto (CapitalInicial, CapitalFinal, Interes):\n",
    "    ans = np.log(CapitalFinal/CapitalInicial)/np.log(1+intereses)\n",
    "    if ans == int(ans):\n",
    "        return ans\n",
    "    else:\n",
    "        return int(ans)+1   "
   ]
  },
  {
   "cell_type": "code",
   "execution_count": 50,
   "metadata": {},
   "outputs": [
    {
     "name": "stdout",
     "output_type": "stream",
     "text": [
      "0.0 4 -93 "
     ]
    }
   ],
   "source": [
    "Co = 10000\n",
    "Meta = (10000,12000,100)\n",
    "i = .008\n",
    "for meta in Meta:\n",
    "    print(periodoCompuesto(Co,meta,i), end = \" \")"
   ]
  },
  {
   "cell_type": "code",
   "execution_count": null,
   "metadata": {},
   "outputs": [],
   "source": []
  }
 ],
 "metadata": {
  "kernelspec": {
   "display_name": "Python 3",
   "language": "python",
   "name": "python3"
  },
  "language_info": {
   "codemirror_mode": {
    "name": "ipython",
    "version": 3
   },
   "file_extension": ".py",
   "mimetype": "text/x-python",
   "name": "python",
   "nbconvert_exporter": "python",
   "pygments_lexer": "ipython3",
   "version": "3.6.5"
  }
 },
 "nbformat": 4,
 "nbformat_minor": 2
}
